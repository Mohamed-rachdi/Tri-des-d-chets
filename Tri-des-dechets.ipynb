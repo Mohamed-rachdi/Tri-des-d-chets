{
 "cells": [
  {
   "cell_type": "code",
   "execution_count": 1,
   "id": "d4f019e9",
   "metadata": {},
   "outputs": [
    {
     "ename": "ModuleNotFoundError",
     "evalue": "No module named 'cv2'",
     "output_type": "error",
     "traceback": [
      "\u001b[1;31m---------------------------------------------------------------------------\u001b[0m",
      "\u001b[1;31mModuleNotFoundError\u001b[0m                       Traceback (most recent call last)",
      "\u001b[1;32m~\\AppData\\Local\\Temp\\ipykernel_8404\\2583414889.py\u001b[0m in \u001b[0;36m<module>\u001b[1;34m\u001b[0m\n\u001b[0;32m      2\u001b[0m \u001b[1;32mfrom\u001b[0m \u001b[0msklearn\u001b[0m\u001b[1;33m.\u001b[0m\u001b[0mnaive_bayes\u001b[0m \u001b[1;32mimport\u001b[0m \u001b[0mGaussianNB\u001b[0m\u001b[1;33m\u001b[0m\u001b[1;33m\u001b[0m\u001b[0m\n\u001b[0;32m      3\u001b[0m \u001b[1;33m\u001b[0m\u001b[0m\n\u001b[1;32m----> 4\u001b[1;33m \u001b[1;32mfrom\u001b[0m \u001b[0mhelper\u001b[0m \u001b[1;32mimport\u001b[0m \u001b[0mextract_feature\u001b[0m\u001b[1;33m,\u001b[0m \u001b[0msave_model\u001b[0m\u001b[1;33m\u001b[0m\u001b[1;33m\u001b[0m\u001b[0m\n\u001b[0m\u001b[0;32m      5\u001b[0m \u001b[1;32mfrom\u001b[0m \u001b[0mpreprocess\u001b[0m \u001b[1;32mimport\u001b[0m \u001b[0mget_training_data\u001b[0m\u001b[1;33m\u001b[0m\u001b[1;33m\u001b[0m\u001b[0m\n\u001b[0;32m      6\u001b[0m \u001b[1;33m\u001b[0m\u001b[0m\n",
      "\u001b[1;32m~\\Desktop\\IA\\Code tri des dechets\\helper.py\u001b[0m in \u001b[0;36m<module>\u001b[1;34m\u001b[0m\n\u001b[0;32m      2\u001b[0m \u001b[1;32mfrom\u001b[0m \u001b[0mtyping\u001b[0m \u001b[1;32mimport\u001b[0m \u001b[0mList\u001b[0m\u001b[1;33m\u001b[0m\u001b[1;33m\u001b[0m\u001b[0m\n\u001b[0;32m      3\u001b[0m \u001b[1;33m\u001b[0m\u001b[0m\n\u001b[1;32m----> 4\u001b[1;33m \u001b[1;32mimport\u001b[0m \u001b[0mcv2\u001b[0m\u001b[1;33m\u001b[0m\u001b[1;33m\u001b[0m\u001b[0m\n\u001b[0m\u001b[0;32m      5\u001b[0m \u001b[1;32mimport\u001b[0m \u001b[0mnumpy\u001b[0m \u001b[1;32mas\u001b[0m \u001b[0mnp\u001b[0m\u001b[1;33m\u001b[0m\u001b[1;33m\u001b[0m\u001b[0m\n\u001b[0;32m      6\u001b[0m \u001b[1;32mfrom\u001b[0m \u001b[0mscipy\u001b[0m\u001b[1;33m.\u001b[0m\u001b[0mcluster\u001b[0m\u001b[1;33m.\u001b[0m\u001b[0mvq\u001b[0m \u001b[1;32mimport\u001b[0m \u001b[0mkmeans\u001b[0m\u001b[1;33m,\u001b[0m \u001b[0mvq\u001b[0m\u001b[1;33m\u001b[0m\u001b[1;33m\u001b[0m\u001b[0m\n",
      "\u001b[1;31mModuleNotFoundError\u001b[0m: No module named 'cv2'"
     ]
    }
   ],
   "source": [
    "import numpy as np\n",
    "from sklearn.naive_bayes import GaussianNB\n",
    "\n",
    "from helper import extract_feature, save_model\n",
    "from preprocess import get_training_data\n",
    "\n",
    "\n",
    "def _get_training_feature():\n",
    "    training_images, training_labels = get_training_data()\n",
    "    img_features, codebook = extract_feature(training_images)\n",
    "    return img_features, codebook, training_labels\n",
    "\n",
    "\n",
    "\n",
    "\n",
    "def train_nb(model_directory: str = \"models\"):\n",
    "    img_features, codebook, training_labels = _get_training_feature()\n",
    "\n",
    "    # train a Naive Bayes classifier\n",
    "    model = GaussianNB()\n",
    "    estimator = model.fit(img_features, np.array(training_labels))\n",
    "\n",
    "    # For testing and reuse\n",
    "    save_model(model_directory + \"/nb_estimator.pkl\", estimator)\n",
    "    save_model(model_directory + \"/nb_codebook.pkl\", codebook)\n",
    "\n",
    "\n",
    "train_nb()"
   ]
  },
  {
   "cell_type": "code",
   "execution_count": 25,
   "id": "dcb1c9a2",
   "metadata": {},
   "outputs": [
    {
     "name": "stdout",
     "output_type": "stream",
     "text": [
      "Naive Bayes Classification Accuracy: 44.0%\n"
     ]
    }
   ],
   "source": [
    "import cv2\n",
    "import numpy as np\n",
    "from scipy.cluster.vq import vq\n",
    "\n",
    "from config import config\n",
    "from helper import load_model\n",
    "from preprocess import get_test_data\n",
    "\n",
    "\n",
    "def evaluate_model(estimator_path: str, codebook_path: str):\n",
    "    estimator = load_model(estimator_path)\n",
    "    codebook = load_model(codebook_path)\n",
    "\n",
    "    orb = cv2.ORB_create()\n",
    "    test_images, test_labels = get_test_data()\n",
    "    n = len(test_images)\n",
    "\n",
    "    test_descriptors = []\n",
    "    # extract features\n",
    "    for image_path in test_images:\n",
    "        img = cv2.imread(image_path)\n",
    "        features = orb.detect(img, None)\n",
    "        _, img_descriptor = orb.compute(img, features)\n",
    "        test_descriptors.append((image_path, img_descriptor))\n",
    "\n",
    "    img_features = np.zeros((n, config.CLUSTER_SIZE), \"float32\")\n",
    "    # create histogram of test images\n",
    "    for i in range(n):\n",
    "        words, distance = vq(test_descriptors[i][1], codebook)\n",
    "        for word in words:\n",
    "            img_features[i][word] += 1\n",
    "\n",
    "    predictions = estimator.predict(img_features)\n",
    "    correct = 0\n",
    "    for i in range(n):\n",
    "        if predictions[i] == test_labels[i]:\n",
    "            correct += 1\n",
    "\n",
    "    accuracy = correct / n\n",
    "    return round(accuracy, 2)\n",
    "\n",
    "\n",
    "if __name__ == \"__main__\":\n",
    "\n",
    "    nb_accuracy = evaluate_model(\"models/nb_estimator.pkl\", \"models/nb_codebook.pkl\")\n",
    "    print(f\"Naive Bayes Classification Accuracy: {nb_accuracy * 100}%\")"
   ]
  },
  {
   "cell_type": "code",
   "execution_count": null,
   "id": "8aaf698b",
   "metadata": {},
   "outputs": [],
   "source": []
  }
 ],
 "metadata": {
  "kernelspec": {
   "display_name": "Python 3 (ipykernel)",
   "language": "python",
   "name": "python3"
  },
  "language_info": {
   "codemirror_mode": {
    "name": "ipython",
    "version": 3
   },
   "file_extension": ".py",
   "mimetype": "text/x-python",
   "name": "python",
   "nbconvert_exporter": "python",
   "pygments_lexer": "ipython3",
   "version": "3.9.13"
  }
 },
 "nbformat": 4,
 "nbformat_minor": 5
}
